{
  "nbformat": 4,
  "nbformat_minor": 0,
  "metadata": {
    "colab": {
      "name": "coursera-python-04.ipynb",
      "provenance": [],
      "collapsed_sections": [],
      "toc_visible": true,
      "authorship_tag": "ABX9TyMCc74BSIW5LI8iZSJdUwbd",
      "include_colab_link": true
    },
    "kernelspec": {
      "name": "python3",
      "display_name": "Python 3"
    }
  },
  "cells": [
    {
      "cell_type": "markdown",
      "metadata": {
        "id": "view-in-github",
        "colab_type": "text"
      },
      "source": [
        "<a href=\"https://colab.research.google.com/github/ameliachoi/coursera-IBM-data-science/blob/master/coursera_python_04.ipynb\" target=\"_parent\"><img src=\"https://colab.research.google.com/assets/colab-badge.svg\" alt=\"Open In Colab\"/></a>"
      ]
    },
    {
      "cell_type": "markdown",
      "metadata": {
        "id": "Z9qnFUKg_paw",
        "colab_type": "text"
      },
      "source": [
        "**[Coursera] Data Analysis with Python**\n",
        "# Section 4. Model Development"
      ]
    },
    {
      "cell_type": "markdown",
      "metadata": {
        "id": "vpkvQRJblfv5",
        "colab_type": "text"
      },
      "source": [
        "## Table of Contents\n",
        "1. Linear Regression and Multiple Linear Regression\n",
        "2. Model Evaluation using Visualization\n",
        "3. Polynomial Regression and Pipelines\n",
        "4. Measures for In-Sample Evaluation\n",
        "5. Prediction and Decision Making"
      ]
    },
    {
      "cell_type": "markdown",
      "metadata": {
        "id": "TrK1c3JUlo-6",
        "colab_type": "text"
      },
      "source": [
        "---"
      ]
    },
    {
      "cell_type": "code",
      "metadata": {
        "id": "eJoDMnAck0pK",
        "colab_type": "code",
        "colab": {}
      },
      "source": [
        "# setting\n",
        "import pandas as pd\n",
        "import numpy as np\n",
        "import matplotlib.pyplot as plt"
      ],
      "execution_count": 0,
      "outputs": []
    },
    {
      "cell_type": "code",
      "metadata": {
        "id": "d2DV473Vlyoo",
        "colab_type": "code",
        "colab": {}
      },
      "source": [
        "# path of data \n",
        "path = 'https://s3-api.us-geo.objectstorage.softlayer.net/cf-courses-data/CognitiveClass/DA0101EN/automobileEDA.csv'\n",
        "df = pd.read_csv(path)\n",
        "df.head()"
      ],
      "execution_count": 0,
      "outputs": []
    },
    {
      "cell_type": "markdown",
      "metadata": {
        "id": "i1A9gz8Tl6PH",
        "colab_type": "text"
      },
      "source": [
        "---"
      ]
    },
    {
      "cell_type": "markdown",
      "metadata": {
        "id": "EMsDtiKal1fo",
        "colab_type": "text"
      },
      "source": [
        "### 1. Linear Regression and Multiple Linear Regression"
      ]
    },
    {
      "cell_type": "code",
      "metadata": {
        "id": "YIJHtJublz66",
        "colab_type": "code",
        "colab": {}
      },
      "source": [
        "# loading the modules for linear regression\n",
        "from sklearn.linear_model import LinearRegression"
      ],
      "execution_count": 0,
      "outputs": []
    },
    {
      "cell_type": "code",
      "metadata": {
        "id": "9lfXZvCqmEmX",
        "colab_type": "code",
        "colab": {}
      },
      "source": [
        "# create the linear regression object\n",
        "lm = LinearRegression()\n",
        "lm"
      ],
      "execution_count": 0,
      "outputs": []
    },
    {
      "cell_type": "markdown",
      "metadata": {
        "id": "wtNGhemVmNM4",
        "colab_type": "text"
      },
      "source": [
        "#### Simple Linear Regression (SLR)\n",
        "**How could Highway-mpg help us predict car price?**"
      ]
    },
    {
      "cell_type": "code",
      "metadata": {
        "id": "94ayEL43mKN-",
        "colab_type": "code",
        "colab": {}
      },
      "source": [
        "X = df[['highway-mpg']]\n",
        "Y = df['price']"
      ],
      "execution_count": 0,
      "outputs": []
    },
    {
      "cell_type": "code",
      "metadata": {
        "id": "YiRNzg4umWC_",
        "colab_type": "code",
        "colab": {}
      },
      "source": [
        "lm.fit(X, Y)"
      ],
      "execution_count": 0,
      "outputs": []
    },
    {
      "cell_type": "code",
      "metadata": {
        "id": "9eUX83exmXkn",
        "colab_type": "code",
        "colab": {}
      },
      "source": [
        "Yhat = lm.predict(X)\n",
        "Yhat[0:5] # output a prediction"
      ],
      "execution_count": 0,
      "outputs": []
    },
    {
      "cell_type": "code",
      "metadata": {
        "id": "Vju0ECO1mcMI",
        "colab_type": "code",
        "colab": {}
      },
      "source": [
        "# what is the value of the intercept a?\n",
        "lm.intercept_"
      ],
      "execution_count": 0,
      "outputs": []
    },
    {
      "cell_type": "code",
      "metadata": {
        "id": "lGynZlJwnXFE",
        "colab_type": "code",
        "colab": {}
      },
      "source": [
        "# what is the value of the slope b?\n",
        "lm.coef_"
      ],
      "execution_count": 0,
      "outputs": []
    },
    {
      "cell_type": "markdown",
      "metadata": {
        "id": "wOlOZ4y1nbmp",
        "colab_type": "text"
      },
      "source": [
        "*Price = 38423.3058581574 - 821.73337832 * Highway-mpg*"
      ]
    },
    {
      "cell_type": "markdown",
      "metadata": {
        "id": "XwrE--p8nxVj",
        "colab_type": "text"
      },
      "source": [
        "**Example: Training the model using 'engine-size' as the independent variable and 'price' as the dependent variable**"
      ]
    },
    {
      "cell_type": "code",
      "metadata": {
        "id": "L63CdMtAnah6",
        "colab_type": "code",
        "colab": {}
      },
      "source": [
        "lm2 = LinearRegression()\n",
        "lm2"
      ],
      "execution_count": 0,
      "outputs": []
    },
    {
      "cell_type": "code",
      "metadata": {
        "id": "7Mr_jmvkn9lY",
        "colab_type": "code",
        "colab": {}
      },
      "source": [
        "lm2.fit(df[['engine-size']], df['price'])"
      ],
      "execution_count": 0,
      "outputs": []
    },
    {
      "cell_type": "code",
      "metadata": {
        "id": "dyqnl4hFoFPn",
        "colab_type": "code",
        "colab": {}
      },
      "source": [
        "Yhat2 = lm2.predict(df[['engine-size']])\n",
        "Yhat2[0:5]"
      ],
      "execution_count": 0,
      "outputs": []
    },
    {
      "cell_type": "code",
      "metadata": {
        "id": "jUeiP7ZgoSrP",
        "colab_type": "code",
        "colab": {}
      },
      "source": [
        "lm2.intercept_"
      ],
      "execution_count": 0,
      "outputs": []
    },
    {
      "cell_type": "code",
      "metadata": {
        "id": "U9txUT5qoyDn",
        "colab_type": "code",
        "colab": {}
      },
      "source": [
        "lm2.coef_"
      ],
      "execution_count": 0,
      "outputs": []
    },
    {
      "cell_type": "markdown",
      "metadata": {
        "id": "tuwkrgRxo0yI",
        "colab_type": "text"
      },
      "source": [
        "*Price = -7963.338906281042 + 166.86001569 * Engine-size*"
      ]
    },
    {
      "cell_type": "markdown",
      "metadata": {
        "id": "YdSoEEu3pOcA",
        "colab_type": "text"
      },
      "source": [
        "#### Multiple Linear Regression (MLR)"
      ]
    },
    {
      "cell_type": "code",
      "metadata": {
        "id": "gnYuAvlnozwg",
        "colab_type": "code",
        "colab": {}
      },
      "source": [
        "# setting model\n",
        "Z = df[['horsepower', 'curb-weight', 'engine-size', 'highway-mpg']]\n",
        "Z.head()"
      ],
      "execution_count": 0,
      "outputs": []
    },
    {
      "cell_type": "code",
      "metadata": {
        "id": "n4heSt1opdTU",
        "colab_type": "code",
        "colab": {}
      },
      "source": [
        "lm.fit(Z, df['price'])"
      ],
      "execution_count": 0,
      "outputs": []
    },
    {
      "cell_type": "code",
      "metadata": {
        "id": "NFTQ-ldopgxH",
        "colab_type": "code",
        "colab": {}
      },
      "source": [
        "lm.intercept_"
      ],
      "execution_count": 0,
      "outputs": []
    },
    {
      "cell_type": "code",
      "metadata": {
        "id": "Rt6gClmQpiYW",
        "colab_type": "code",
        "colab": {}
      },
      "source": [
        "lm.coef_"
      ],
      "execution_count": 0,
      "outputs": []
    },
    {
      "cell_type": "markdown",
      "metadata": {
        "id": "-wX--LyCplNc",
        "colab_type": "text"
      },
      "source": [
        "*Price = -15806 + 53 * horsepower + 4 * curb-weight + 81 * engine-size + 36 * highway-mpg*"
      ]
    },
    {
      "cell_type": "markdown",
      "metadata": {
        "id": "3ITb2Bt068GW",
        "colab_type": "text"
      },
      "source": [
        "**Example : Create a multiple linear regression model lm2 where the response variable is price, and the predictor variables are 'normalized-losses' and 'highway-mpg'**"
      ]
    },
    {
      "cell_type": "code",
      "metadata": {
        "id": "3a3JE9UBpjru",
        "colab_type": "code",
        "colab": {}
      },
      "source": [
        "lm2 = LinearRegression()\n",
        "lm2"
      ],
      "execution_count": 0,
      "outputs": []
    },
    {
      "cell_type": "code",
      "metadata": {
        "id": "1rxxQ3fE7Xjl",
        "colab_type": "code",
        "colab": {}
      },
      "source": [
        "Z2 = df[['normalized-losses', 'highway-mpg']]\n",
        "Z2.head()"
      ],
      "execution_count": 0,
      "outputs": []
    },
    {
      "cell_type": "code",
      "metadata": {
        "id": "UPTZuFBG7frA",
        "colab_type": "code",
        "colab": {}
      },
      "source": [
        "lm2.fit(Z2, df['price'])"
      ],
      "execution_count": 0,
      "outputs": []
    },
    {
      "cell_type": "code",
      "metadata": {
        "id": "KeMZ3TdW7j2A",
        "colab_type": "code",
        "colab": {}
      },
      "source": [
        "lm2.intercept_"
      ],
      "execution_count": 0,
      "outputs": []
    },
    {
      "cell_type": "code",
      "metadata": {
        "id": "YVAAoSAa7niK",
        "colab_type": "code",
        "colab": {}
      },
      "source": [
        "lm2.coef_"
      ],
      "execution_count": 0,
      "outputs": []
    },
    {
      "cell_type": "markdown",
      "metadata": {
        "id": "K1YN5ncp7qBw",
        "colab_type": "text"
      },
      "source": [
        "*Price = 38201.31327245728 + 1.49789586 * normalized-losses -820.45434016 * highway-mpg*"
      ]
    },
    {
      "cell_type": "markdown",
      "metadata": {
        "id": "NJ3KEL5v8Cmw",
        "colab_type": "text"
      },
      "source": [
        "---"
      ]
    },
    {
      "cell_type": "markdown",
      "metadata": {
        "id": "sY-Ts9778Do4",
        "colab_type": "text"
      },
      "source": [
        "### Model Evaluation using Visualization"
      ]
    },
    {
      "cell_type": "code",
      "metadata": {
        "id": "XgZQN60p7pAI",
        "colab_type": "code",
        "colab": {}
      },
      "source": [
        "# import the visualization package : seaborn\n",
        "import seaborn as sns\n",
        "%matplotlib inline"
      ],
      "execution_count": 0,
      "outputs": []
    },
    {
      "cell_type": "markdown",
      "metadata": {
        "id": "77NXtZjl8SUo",
        "colab_type": "text"
      },
      "source": [
        "#### Regression Plot"
      ]
    },
    {
      "cell_type": "code",
      "metadata": {
        "id": "z7z4sNQ58REU",
        "colab_type": "code",
        "colab": {}
      },
      "source": [
        "# visualize 'horsepower' as potential predictor variable of price\n",
        "width = 12\n",
        "height = 10\n",
        "plt.figure(figsize=(width, height))\n",
        "sns.regplot(x='highway-mpg', y='price', data=df)\n",
        "plt.ylim(0,)"
      ],
      "execution_count": 0,
      "outputs": []
    },
    {
      "cell_type": "markdown",
      "metadata": {
        "id": "Kummsisx8qoQ",
        "colab_type": "text"
      },
      "source": [
        "`highway-mpg`와 `price`는 음의 상관관계를 보여주고 있음.\n",
        "\n",
        "주목할 것은 line 주위로 분포된 scatter가 얼마나 퍼져있는 지 확인해야함."
      ]
    },
    {
      "cell_type": "code",
      "metadata": {
        "id": "RkLu65Pc8mJD",
        "colab_type": "code",
        "colab": {}
      },
      "source": [
        "# visualize 'peak-rpm' as potential predictor variable of price\n",
        "plt.figure(figsize=(width, height))\n",
        "sns.regplot(x='peak-rpm', y='price', data=df)\n",
        "plt.ylim(0,)"
      ],
      "execution_count": 0,
      "outputs": []
    },
    {
      "cell_type": "markdown",
      "metadata": {
        "id": "gxoKt5Zj9Nt4",
        "colab_type": "text"
      },
      "source": [
        "`highway-mpg`와 `peak-rpm`을 비교해 볼 때,\n",
        "\n",
        "`highway-mpg`가 line을 따라서 더 가까이 분포되어 있는 것을 확인할 수 있다.\n",
        "\n",
        "모델에서 predictor variable을 지정할 때 regression plot에서 line과 scatter가 유사하게 분포할 시에 reasonable estimate of the relationship이라 볼 수 있음"
      ]
    },
    {
      "cell_type": "code",
      "metadata": {
        "id": "Bz_7BveX9Lah",
        "colab_type": "code",
        "colab": {}
      },
      "source": [
        "df[['peak-rpm', 'highway-mpg', 'price']].corr()"
      ],
      "execution_count": 0,
      "outputs": []
    },
    {
      "cell_type": "markdown",
      "metadata": {
        "id": "vsbUgoJT-eMg",
        "colab_type": "text"
      },
      "source": [
        "#### Residual Plot"
      ]
    },
    {
      "cell_type": "code",
      "metadata": {
        "id": "EzzfUB_N-apM",
        "colab_type": "code",
        "colab": {}
      },
      "source": [
        "# the residual plot of 'highway-mpg'\n",
        "width = 12\n",
        "height = 10\n",
        "plt.figure(figsize=(width, height))\n",
        "sns.residplot(df['highway-mpg'], df['price'])\n",
        "plt.show()"
      ],
      "execution_count": 0,
      "outputs": []
    },
    {
      "cell_type": "markdown",
      "metadata": {
        "id": "YzGh__NF_BGM",
        "colab_type": "text"
      },
      "source": [
        "residual 잔차가 불규칙하게 분포되어 있음.\n",
        "\n",
        "non-linear model에 더 적합하다고 판단됨."
      ]
    },
    {
      "cell_type": "markdown",
      "metadata": {
        "id": "MRzrZT4X_24j",
        "colab_type": "text"
      },
      "source": [
        "#### Multiple Linear Regression : distribution plot"
      ]
    },
    {
      "cell_type": "code",
      "metadata": {
        "id": "vGAuxXc6-8at",
        "colab_type": "code",
        "colab": {}
      },
      "source": [
        "Y_hat = lm.predict(Z)"
      ],
      "execution_count": 0,
      "outputs": []
    },
    {
      "cell_type": "code",
      "metadata": {
        "id": "NiSMP-ifADzR",
        "colab_type": "code",
        "colab": {
          "base_uri": "https://localhost:8080/",
          "height": 621
        },
        "outputId": "72651a72-214b-4eeb-f350-1528eb52150a"
      },
      "source": [
        "plt.figure(figsize=(width, height))\n",
        "\n",
        "ax1 = sns.distplot(df['price'], hist=False, color='r', label='Actual Value')\n",
        "sns.distplot(Y_hat, hist=False, color='b', label='Fitted Values', ax=ax1)\n",
        "\n",
        "plt.title('Actual vs Fitted Values for Price')\n",
        "plt.xlabel('Price (in dollars)')\n",
        "plt.ylabel('Proportion of Cars')\n",
        "\n",
        "plt.show()\n",
        "plt.close()"
      ],
      "execution_count": 30,
      "outputs": [
        {
          "output_type": "display_data",
          "data": {
            "image/png": "[encoded data removed]",
            "text/plain": [
              "<Figure size 864x720 with 1 Axes>"
            ]
          },
          "metadata": {
            "tags": [],
            "needs_background": "light"
          }
        }
      ]
    },
    {
      "cell_type": "markdown",
      "metadata": {
        "id": "59MVngm8BI16",
        "colab_type": "text"
      },
      "source": [
        "---"
      ]
    },
    {
      "cell_type": "markdown",
      "metadata": {
        "id": "9JKkW6MQBJsw",
        "colab_type": "text"
      },
      "source": [
        "### Polynomial Regression and Pipelines : 다항 회귀"
      ]
    },
    {
      "cell_type": "markdown",
      "metadata": {
        "id": "4j6yMi52C23n",
        "colab_type": "text"
      },
      "source": [
        "<center><b>Quadratic - 2nd order</b></center>\n",
        "$$\n",
        "Yhat = a + b_1 X^2 +b_2 X^2 \n",
        "$$\n",
        "\n",
        "\n",
        "<center><b>Cubic - 3rd order</b></center>\n",
        "$$\n",
        "Yhat = a + b_1 X^2 +b_2 X^2 +b_3 X^3\\\\\n",
        "$$\n",
        "\n",
        "\n",
        "<center><b>Higher order</b>:</center>\n",
        "$$\n",
        "Y = a + b_1 X^2 +b_2 X^2 +b_3 X^3 ....\\\\\n",
        "$$"
      ]
    },
    {
      "cell_type": "code",
      "metadata": {
        "id": "goD9w3GoAjg1",
        "colab_type": "code",
        "colab": {}
      },
      "source": [
        "# fitting a polynomial model to the data\n",
        "def PlotPolly(model, independent_variable, dependent_variable, Name):\n",
        "  x_new = np.linspace(15, 55, 100)\n",
        "  y_new = model(x_new)\n",
        "\n",
        "  plt.plot(independent_variable, dependent_variable, '.', x_new, y_new, '-')\n",
        "  plt.title('Polynomial Fit with Matplotlib for Price ~ Length')\n",
        "  ax = plt.gca() # 현재 axes\n",
        "  ax.set_facecolor((0.898, 0.898, 0.898))\n",
        "  fig = plt.gcf() # 현재 figure 객체\n",
        "  plt.xlabel(Name)\n",
        "  plt.ylabel('Price of Cars')\n",
        "\n",
        "  plt.show()\n",
        "  plt.close()\n"
      ],
      "execution_count": 0,
      "outputs": []
    },
    {
      "cell_type": "code",
      "metadata": {
        "id": "z1AVYV3hEr9A",
        "colab_type": "code",
        "colab": {}
      },
      "source": [
        "x = df['highway-mpg']\n",
        "y = df['price']"
      ],
      "execution_count": 0,
      "outputs": []
    },
    {
      "cell_type": "code",
      "metadata": {
        "id": "EcOHzGX0Ev5y",
        "colab_type": "code",
        "colab": {
          "base_uri": "https://localhost:8080/",
          "height": 51
        },
        "outputId": "12b9484b-29ff-49fd-b5ca-f316ac165dcd"
      },
      "source": [
        "# polynomial of the 3rd order (cubic)\n",
        "f = np.polyfit(x, y, 3)\n",
        "p = np.poly1d(f)\n",
        "print(p)"
      ],
      "execution_count": 33,
      "outputs": [
        {
          "output_type": "stream",
          "text": [
            "        3         2\n",
            "-1.557 x + 204.8 x - 8965 x + 1.379e+05\n"
          ],
          "name": "stdout"
        }
      ]
    },
    {
      "cell_type": "code",
      "metadata": {
        "id": "K2rvphoIF004",
        "colab_type": "code",
        "colab": {
          "base_uri": "https://localhost:8080/",
          "height": 312
        },
        "outputId": "0e47ae8a-6381-4aae-c2fe-96e2c8ef068e"
      },
      "source": [
        "# plotting the function\n",
        "PlotPolly(p, x, y, 'highway-mpg')\n",
        "np.polyfit(x, y, 3)"
      ],
      "execution_count": 34,
      "outputs": [
        {
          "output_type": "display_data",
          "data": {
            "image/png": "[encoded data removed]",
            "text/plain": [
              "<Figure size 432x288 with 1 Axes>"
            ]
          },
          "metadata": {
            "tags": [],
            "needs_background": "light"
          }
        },
        {
          "output_type": "execute_result",
          "data": {
            "text/plain": [
              "array([-1.55663829e+00,  2.04754306e+02, -8.96543312e+03,  1.37923594e+05])"
            ]
          },
          "metadata": {
            "tags": []
          },
          "execution_count": 34
        }
      ]
    },
    {
      "cell_type": "markdown",
      "metadata": {
        "id": "2zU_lfgvI8Ul",
        "colab_type": "text"
      },
      "source": [
        "#### Polynomial transform on multiple features"
      ]
    },
    {
      "cell_type": "code",
      "metadata": {
        "id": "vQ3WkHfSGWlE",
        "colab_type": "code",
        "colab": {}
      },
      "source": [
        "from sklearn.preprocessing import PolynomialFeatures"
      ],
      "execution_count": 0,
      "outputs": []
    },
    {
      "cell_type": "code",
      "metadata": {
        "id": "IbNJqlm9JJ88",
        "colab_type": "code",
        "colab": {
          "base_uri": "https://localhost:8080/",
          "height": 51
        },
        "outputId": "b9ae1051-f504-409d-fce9-5d662a1ba36f"
      },
      "source": [
        "# degree 2 polynomial features\n",
        "pr = PolynomialFeatures(degree=2)\n",
        "pr"
      ],
      "execution_count": 36,
      "outputs": [
        {
          "output_type": "execute_result",
          "data": {
            "text/plain": [
              "PolynomialFeatures(degree=2, include_bias=True, interaction_only=False,\n",
              "                   order='C')"
            ]
          },
          "metadata": {
            "tags": []
          },
          "execution_count": 36
        }
      ]
    },
    {
      "cell_type": "code",
      "metadata": {
        "id": "WfN1-9L-JQlM",
        "colab_type": "code",
        "colab": {}
      },
      "source": [
        "Z_pr = pr.fit_transform(Z)"
      ],
      "execution_count": 0,
      "outputs": []
    },
    {
      "cell_type": "code",
      "metadata": {
        "id": "YNoWSYWQJUGF",
        "colab_type": "code",
        "colab": {
          "base_uri": "https://localhost:8080/",
          "height": 34
        },
        "outputId": "546a80ee-4d5c-44bc-ddef-08b6059733d9"
      },
      "source": [
        "Z.shape # 원 데이터의 sample과 feature 갯수"
      ],
      "execution_count": 38,
      "outputs": [
        {
          "output_type": "execute_result",
          "data": {
            "text/plain": [
              "(201, 4)"
            ]
          },
          "metadata": {
            "tags": []
          },
          "execution_count": 38
        }
      ]
    },
    {
      "cell_type": "code",
      "metadata": {
        "id": "je-4LirOJX4p",
        "colab_type": "code",
        "colab": {
          "base_uri": "https://localhost:8080/",
          "height": 34
        },
        "outputId": "8ec43875-420d-431a-8dbf-6b465ca8764a"
      },
      "source": [
        "Z_pr.shape # transformation 데이터의 sample과 feature 갯수"
      ],
      "execution_count": 39,
      "outputs": [
        {
          "output_type": "execute_result",
          "data": {
            "text/plain": [
              "(201, 15)"
            ]
          },
          "metadata": {
            "tags": []
          },
          "execution_count": 39
        }
      ]
    },
    {
      "cell_type": "markdown",
      "metadata": {
        "id": "Y6iRMmrRJnvj",
        "colab_type": "text"
      },
      "source": [
        "#### Pipeline\n",
        "파이프라인은 data processing을 단순하게 만드는 작업을 진행한다.\n",
        "\n",
        "[관련 blog post](https://data-newbie.tistory.com/185)"
      ]
    },
    {
      "cell_type": "code",
      "metadata": {
        "id": "IXnxA1scJk-B",
        "colab_type": "code",
        "colab": {}
      },
      "source": [
        "from sklearn.pipeline import Pipeline\n",
        "from sklearn.preprocessing import StandardScaler"
      ],
      "execution_count": 0,
      "outputs": []
    },
    {
      "cell_type": "code",
      "metadata": {
        "id": "T_YMS75UKh2u",
        "colab_type": "code",
        "colab": {}
      },
      "source": [
        "# Standardization - Polynomial - Linear Regression 순으로 pipeline\n",
        "Input = [('scale', StandardScaler()), ('polynomial', PolynomialFeatures(include_bias=False)), ('model', LinearRegression())]"
      ],
      "execution_count": 0,
      "outputs": []
    },
    {
      "cell_type": "code",
      "metadata": {
        "id": "RkelqRaHLA4x",
        "colab_type": "code",
        "colab": {
          "base_uri": "https://localhost:8080/",
          "height": 187
        },
        "outputId": "89263414-42d8-4e86-ac0f-78fa3610c5ae"
      },
      "source": [
        "pipe = Pipeline(Input)\n",
        "pipe"
      ],
      "execution_count": 42,
      "outputs": [
        {
          "output_type": "execute_result",
          "data": {
            "text/plain": [
              "Pipeline(memory=None,\n",
              "         steps=[('scale',\n",
              "                 StandardScaler(copy=True, with_mean=True, with_std=True)),\n",
              "                ('polynomial',\n",
              "                 PolynomialFeatures(degree=2, include_bias=False,\n",
              "                                    interaction_only=False, order='C')),\n",
              "                ('model',\n",
              "                 LinearRegression(copy_X=True, fit_intercept=True, n_jobs=None,\n",
              "                                  normalize=False))],\n",
              "         verbose=False)"
            ]
          },
          "metadata": {
            "tags": []
          },
          "execution_count": 42
        }
      ]
    },
    {
      "cell_type": "code",
      "metadata": {
        "id": "WldY5jbMLE7_",
        "colab_type": "code",
        "colab": {
          "base_uri": "https://localhost:8080/",
          "height": 187
        },
        "outputId": "637dcbf7-b720-4580-822c-689a1e8f8a98"
      },
      "source": [
        "pipe.fit(Z, y)"
      ],
      "execution_count": 43,
      "outputs": [
        {
          "output_type": "execute_result",
          "data": {
            "text/plain": [
              "Pipeline(memory=None,\n",
              "         steps=[('scale',\n",
              "                 StandardScaler(copy=True, with_mean=True, with_std=True)),\n",
              "                ('polynomial',\n",
              "                 PolynomialFeatures(degree=2, include_bias=False,\n",
              "                                    interaction_only=False, order='C')),\n",
              "                ('model',\n",
              "                 LinearRegression(copy_X=True, fit_intercept=True, n_jobs=None,\n",
              "                                  normalize=False))],\n",
              "         verbose=False)"
            ]
          },
          "metadata": {
            "tags": []
          },
          "execution_count": 43
        }
      ]
    },
    {
      "cell_type": "code",
      "metadata": {
        "id": "Db8h73ouLJhz",
        "colab_type": "code",
        "colab": {
          "base_uri": "https://localhost:8080/",
          "height": 34
        },
        "outputId": "f5e9a0de-327d-431f-9f53-852af2239c05"
      },
      "source": [
        "ypipe = pipe.predict(Z)\n",
        "ypipe[0:4]"
      ],
      "execution_count": 44,
      "outputs": [
        {
          "output_type": "execute_result",
          "data": {
            "text/plain": [
              "array([13102.74784201, 13102.74784201, 18225.54572197, 10390.29636555])"
            ]
          },
          "metadata": {
            "tags": []
          },
          "execution_count": 44
        }
      ]
    },
    {
      "cell_type": "markdown",
      "metadata": {
        "id": "W6j8e0lKLSwC",
        "colab_type": "text"
      },
      "source": [
        "---"
      ]
    },
    {
      "cell_type": "markdown",
      "metadata": {
        "id": "04mVPQjmMEpR",
        "colab_type": "text"
      },
      "source": [
        "### Measures for In-Sample Evaluation\n",
        "\n",
        "In-Sample Evaluation 방법으로는,\n",
        "\n",
        "- R^2 / R-squared\n",
        "\n",
        "- Mean Squared Error(MSE) 가 있다."
      ]
    },
    {
      "cell_type": "markdown",
      "metadata": {
        "id": "-7pOeeO-MS10",
        "colab_type": "text"
      },
      "source": [
        "#### Simple Linear Regression"
      ]
    },
    {
      "cell_type": "code",
      "metadata": {
        "id": "YLnmOieyLQA7",
        "colab_type": "code",
        "colab": {
          "base_uri": "https://localhost:8080/",
          "height": 34
        },
        "outputId": "540e9c27-1ddd-4cd5-e284-b8a6dc2da3f3"
      },
      "source": [
        "lm.fit(X, Y)\n",
        "print('The R-square is: ', lm.score(X, Y))"
      ],
      "execution_count": 45,
      "outputs": [
        {
          "output_type": "stream",
          "text": [
            "The R-square is:  0.4965911884339176\n"
          ],
          "name": "stdout"
        }
      ]
    },
    {
      "cell_type": "code",
      "metadata": {
        "id": "HLXkZf0NMb4v",
        "colab_type": "code",
        "colab": {
          "base_uri": "https://localhost:8080/",
          "height": 34
        },
        "outputId": "83da5202-87b5-4840-ee5c-c3319dc76208"
      },
      "source": [
        "Yhat=lm.predict(X)\n",
        "print('The output of the first four predicted value is: ', Yhat[0:4])"
      ],
      "execution_count": 46,
      "outputs": [
        {
          "output_type": "stream",
          "text": [
            "The output of the first four predicted value is:  [16236.50464347 16236.50464347 17058.23802179 13771.3045085 ]\n"
          ],
          "name": "stdout"
        }
      ]
    },
    {
      "cell_type": "code",
      "metadata": {
        "id": "MzwKH8TOMtuk",
        "colab_type": "code",
        "colab": {}
      },
      "source": [
        "from sklearn.metrics import mean_squared_error"
      ],
      "execution_count": 0,
      "outputs": []
    },
    {
      "cell_type": "code",
      "metadata": {
        "id": "N6aUPK9RR3Cv",
        "colab_type": "code",
        "colab": {
          "base_uri": "https://localhost:8080/",
          "height": 34
        },
        "outputId": "49b80d19-2d02-4b13-9a30-cb1f9ed63894"
      },
      "source": [
        "mse = mean_squared_error(df['price'], Yhat)\n",
        "print('The mean square error of price and predicted value is: ', mse)"
      ],
      "execution_count": 48,
      "outputs": [
        {
          "output_type": "stream",
          "text": [
            "The mean square error of price and predicted value is:  31635042.944639888\n"
          ],
          "name": "stdout"
        }
      ]
    },
    {
      "cell_type": "markdown",
      "metadata": {
        "id": "BxSE-nLwSWtS",
        "colab_type": "text"
      },
      "source": [
        "#### Multiple Linear Regression"
      ]
    },
    {
      "cell_type": "code",
      "metadata": {
        "id": "lgiFM2X0SBmw",
        "colab_type": "code",
        "colab": {
          "base_uri": "https://localhost:8080/",
          "height": 34
        },
        "outputId": "b1ec67e6-3bd5-4128-8fd2-f1274d648a8c"
      },
      "source": [
        "# fitting the model\n",
        "lm.fit(Z, df['price'])\n",
        "# finding the R-square\n",
        "print('The R-square is: ', lm.score(Z, df['price']))"
      ],
      "execution_count": 49,
      "outputs": [
        {
          "output_type": "stream",
          "text": [
            "The R-square is:  0.8093562806577457\n"
          ],
          "name": "stdout"
        }
      ]
    },
    {
      "cell_type": "code",
      "metadata": {
        "id": "wsWf0omUSk1r",
        "colab_type": "code",
        "colab": {}
      },
      "source": [
        "Y_predict_multifit = lm.predict(Z)"
      ],
      "execution_count": 0,
      "outputs": []
    },
    {
      "cell_type": "code",
      "metadata": {
        "id": "3RPgfgXbUEnl",
        "colab_type": "code",
        "colab": {
          "base_uri": "https://localhost:8080/",
          "height": 34
        },
        "outputId": "71ff1523-6ef8-476f-decb-42a5090f073c"
      },
      "source": [
        "print('The mean squared error of price and predicted value using multifit is: ',\n",
        "      mean_squared_error(df['price'], Y_predict_multifit))"
      ],
      "execution_count": 51,
      "outputs": [
        {
          "output_type": "stream",
          "text": [
            "The mean squared error of price and predicted value using multifit is:  11980366.87072649\n"
          ],
          "name": "stdout"
        }
      ]
    },
    {
      "cell_type": "markdown",
      "metadata": {
        "id": "MvAeYZrVUV1K",
        "colab_type": "text"
      },
      "source": [
        "#### Polynomial Fit"
      ]
    },
    {
      "cell_type": "code",
      "metadata": {
        "id": "EJ-gChcTURW8",
        "colab_type": "code",
        "colab": {}
      },
      "source": [
        "from sklearn.metrics import r2_score"
      ],
      "execution_count": 0,
      "outputs": []
    },
    {
      "cell_type": "code",
      "metadata": {
        "id": "zYUqQi-0Ua6u",
        "colab_type": "code",
        "colab": {
          "base_uri": "https://localhost:8080/",
          "height": 34
        },
        "outputId": "e7a0310f-04a1-492a-b734-08eae443dbe5"
      },
      "source": [
        "r_squared = r2_score(y, p(x))\n",
        "print('The R-square value is: ', r_squared)"
      ],
      "execution_count": 53,
      "outputs": [
        {
          "output_type": "stream",
          "text": [
            "The R-square value is:  0.674194666390652\n"
          ],
          "name": "stdout"
        }
      ]
    },
    {
      "cell_type": "code",
      "metadata": {
        "id": "simZEjYmUgZt",
        "colab_type": "code",
        "colab": {
          "base_uri": "https://localhost:8080/",
          "height": 34
        },
        "outputId": "bb6443e1-ba36-4322-97dc-89c0f46b9585"
      },
      "source": [
        "mean_squared_error(df['price'], p(x))"
      ],
      "execution_count": 54,
      "outputs": [
        {
          "output_type": "execute_result",
          "data": {
            "text/plain": [
              "20474146.426361218"
            ]
          },
          "metadata": {
            "tags": []
          },
          "execution_count": 54
        }
      ]
    },
    {
      "cell_type": "markdown",
      "metadata": {
        "id": "kxglS35dUl3I",
        "colab_type": "text"
      },
      "source": [
        "---"
      ]
    },
    {
      "cell_type": "markdown",
      "metadata": {
        "id": "JDkyl2MJUmtJ",
        "colab_type": "text"
      },
      "source": [
        "### Prediction and Decision Making"
      ]
    },
    {
      "cell_type": "markdown",
      "metadata": {
        "id": "dmQXftXGUrwe",
        "colab_type": "text"
      },
      "source": [
        "#### Prediction"
      ]
    },
    {
      "cell_type": "code",
      "metadata": {
        "id": "k6dNzgMFUk4J",
        "colab_type": "code",
        "colab": {}
      },
      "source": [
        "import matplotlib.pyplot as plt\n",
        "import numpy as np\n",
        "\n",
        "%matplotlib inline"
      ],
      "execution_count": 0,
      "outputs": []
    },
    {
      "cell_type": "code",
      "metadata": {
        "id": "Gjo1VizQUxM4",
        "colab_type": "code",
        "colab": {}
      },
      "source": [
        "# create a new input\n",
        "new_input = np.arange(1, 100, 1).reshape(-1, 1)"
      ],
      "execution_count": 0,
      "outputs": []
    },
    {
      "cell_type": "code",
      "metadata": {
        "id": "s2lzzRJ7U1Jn",
        "colab_type": "code",
        "colab": {
          "base_uri": "https://localhost:8080/",
          "height": 34
        },
        "outputId": "9fb42d4c-d4b0-45ba-e456-9552e4a3cb49"
      },
      "source": [
        "# fitting the model\n",
        "lm.fit(X, Y)\n",
        "lm"
      ],
      "execution_count": 57,
      "outputs": [
        {
          "output_type": "execute_result",
          "data": {
            "text/plain": [
              "LinearRegression(copy_X=True, fit_intercept=True, n_jobs=None, normalize=False)"
            ]
          },
          "metadata": {
            "tags": []
          },
          "execution_count": 57
        }
      ]
    },
    {
      "cell_type": "code",
      "metadata": {
        "id": "8jvTV2c6VDq9",
        "colab_type": "code",
        "colab": {
          "base_uri": "https://localhost:8080/",
          "height": 51
        },
        "outputId": "e3e1fe08-f65e-4de6-ca5b-97819faa94e0"
      },
      "source": [
        "# producing a prediction\n",
        "yhat = lm.predict(new_input)\n",
        "yhat[0:5]"
      ],
      "execution_count": 58,
      "outputs": [
        {
          "output_type": "execute_result",
          "data": {
            "text/plain": [
              "array([37601.57247984, 36779.83910151, 35958.10572319, 35136.37234487,\n",
              "       34314.63896655])"
            ]
          },
          "metadata": {
            "tags": []
          },
          "execution_count": 58
        }
      ]
    },
    {
      "cell_type": "code",
      "metadata": {
        "id": "Ema4GogIVJCo",
        "colab_type": "code",
        "colab": {
          "base_uri": "https://localhost:8080/",
          "height": 265
        },
        "outputId": "4e3f8b2d-a305-42bd-b8ba-bbadcce62f2e"
      },
      "source": [
        "plt.plot(new_input, yhat)\n",
        "plt.show()"
      ],
      "execution_count": 59,
      "outputs": [
        {
          "output_type": "display_data",
          "data": {
            "image/png": "[encoded data removed]",
            "text/plain": [
              "<Figure size 432x288 with 1 Axes>"
            ]
          },
          "metadata": {
            "tags": [],
            "needs_background": "light"
          }
        }
      ]
    },
    {
      "cell_type": "markdown",
      "metadata": {
        "id": "vNfQ5xk4VdLx",
        "colab_type": "text"
      },
      "source": [
        "#### Decision Making : Determining a Good Model Fit"
      ]
    },
    {
      "cell_type": "markdown",
      "metadata": {
        "id": "rzxwyu2_Vh6N",
        "colab_type": "text"
      },
      "source": [
        "- What is a good R-sqaured value?\n",
        "\n",
        "R-square는 높을수록 data와 model의 적합도가 높다고 본다.\n",
        "\n",
        "- What is a good MSE?\n",
        "\n",
        "MSE은 R-square와 반대로 작을수록 적합도가 높다."
      ]
    },
    {
      "cell_type": "markdown",
      "metadata": {
        "id": "6HKJDy1BV146",
        "colab_type": "text"
      },
      "source": [
        "**여러 모델로 value 비교하기**\n",
        "\n",
        "`highway-mpg`를 변수로 `price`를 예측하는 모델로 볼 때,\n",
        "\n",
        "SLR\n",
        "\n",
        "- R^2 : 0.4965\n",
        "- MSE : 3.16 * 10^7\n",
        "\n",
        "MLR\n",
        "\n",
        "- R^2 : 0.8089\n",
        "- MSE : 1.2 * 10^7\n",
        "\n",
        "Polynomial Fit\n",
        "\n",
        "- R^2 : 0.6741\n",
        "- MSE : 2.05 * 10^7\n",
        "\n",
        "=> 종합적으로 비교했을 때 해당 변수에는 MLR이 적합함"
      ]
    }
  ]
}