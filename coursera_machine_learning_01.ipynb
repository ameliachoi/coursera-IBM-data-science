{
  "nbformat": 4,
  "nbformat_minor": 0,
  "metadata": {
    "colab": {
      "name": "coursera-machine-learning-01.ipynb",
      "provenance": [],
      "authorship_tag": "ABX9TyObYh6TADy5dB/3npoGgs9L",
      "include_colab_link": true
    },
    "kernelspec": {
      "name": "python3",
      "display_name": "Python 3"
    }
  },
  "cells": [
    {
      "cell_type": "markdown",
      "metadata": {
        "id": "view-in-github",
        "colab_type": "text"
      },
      "source": [
        "<a href=\"https://colab.research.google.com/github/ameliachoi/coursera-IBM-data-science/blob/master/coursera_machine_learning_01.ipynb\" target=\"_parent\"><img src=\"https://colab.research.google.com/assets/colab-badge.svg\" alt=\"Open In Colab\"/></a>"
      ]
    },
    {
      "cell_type": "markdown",
      "metadata": {
        "id": "1LzeNf43YQ0F",
        "colab_type": "text"
      },
      "source": [
        "**[Coursera] Machine Learning with Python**\n",
        "# Section 1. Simple Linear Regression"
      ]
    },
    {
      "cell_type": "markdown",
      "metadata": {
        "id": "XGmR16FpYc-s",
        "colab_type": "text"
      },
      "source": [
        "## Table of Contents\n",
        "1. Understanding the Data\n",
        "2. Reading the data in\n",
        "3. Data Exploration\n",
        "4. Simple Regression Model"
      ]
    },
    {
      "cell_type": "markdown",
      "metadata": {
        "id": "r33qDAUIYlEE",
        "colab_type": "text"
      },
      "source": [
        "---"
      ]
    },
    {
      "cell_type": "code",
      "metadata": {
        "id": "cvfKAhMPYNrB",
        "colab_type": "code",
        "colab": {}
      },
      "source": [
        "# importing needed packages\n",
        "import matplotlib.pyplot as plt\n",
        "import pandas as pd\n",
        "import pylab as pl\n",
        "import numpy as np\n",
        "%matplotlib inline"
      ],
      "execution_count": 2,
      "outputs": []
    },
    {
      "cell_type": "code",
      "metadata": {
        "id": "n-IZvmKKZFaE",
        "colab_type": "code",
        "colab": {
          "base_uri": "https://localhost:8080/",
          "height": 235
        },
        "outputId": "8e0ef023-2247-4f0d-ab76-1e440ec4e642"
      },
      "source": [
        "!wget -O FuelConsumption.csv https://s3-api.us-geo.objectstorage.softlayer.net/cf-courses-data/CognitiveClass/ML0101ENv3/labs/FuelConsumptionCo2.csv"
      ],
      "execution_count": 3,
      "outputs": [
        {
          "output_type": "stream",
          "text": [
            "--2020-06-22 05:00:23--  https://s3-api.us-geo.objectstorage.softlayer.net/cf-courses-data/CognitiveClass/ML0101ENv3/labs/FuelConsumptionCo2.csv\n",
            "Resolving s3-api.us-geo.objectstorage.softlayer.net (s3-api.us-geo.objectstorage.softlayer.net)... 67.228.254.196\n",
            "Connecting to s3-api.us-geo.objectstorage.softlayer.net (s3-api.us-geo.objectstorage.softlayer.net)|67.228.254.196|:443... connected.\n",
            "HTTP request sent, awaiting response... 200 OK\n",
            "Length: 72629 (71K) [text/csv]\n",
            "Saving to: ‘FuelConsumption.csv’\n",
            "\n",
            "\rFuelConsumption.csv   0%[                    ]       0  --.-KB/s               \rFuelConsumption.csv 100%[===================>]  70.93K  --.-KB/s    in 0.02s   \n",
            "\n",
            "2020-06-22 05:00:23 (2.79 MB/s) - ‘FuelConsumption.csv’ saved [72629/72629]\n",
            "\n"
          ],
          "name": "stdout"
        }
      ]
    },
    {
      "cell_type": "markdown",
      "metadata": {
        "id": "hy5DDaBeZkEQ",
        "colab_type": "text"
      },
      "source": [
        "---"
      ]
    },
    {
      "cell_type": "markdown",
      "metadata": {
        "id": "IU_9_efWZsFm",
        "colab_type": "text"
      },
      "source": [
        "### 1. Understanding the Data"
      ]
    },
    {
      "cell_type": "markdown",
      "metadata": {
        "id": "JQ7bkADkaFht",
        "colab_type": "text"
      },
      "source": [
        "`FuelConsumption.csv`:\n",
        "\n",
        "- **MODELYEAR** e.g. 2014\n",
        "- **MAKE** e.g. Acura\n",
        "- **MODEL** e.g. ILX\n",
        "- **VEHICLE CLASS** e.g. SUV\n",
        "- **ENGINE SIZE** e.g. 4.7\n",
        "- **CYLINDERS** e.g 6\n",
        "- **TRANSMISSION** e.g. A6\n",
        "- **FUEL CONSUMPTION in CITY(L/100 km)** e.g. 9.9\n",
        "- **FUEL CONSUMPTION in HWY (L/100 km)** e.g. 8.9\n",
        "- **FUEL CONSUMPTION COMB (L/100 km)** e.g. 9.2\n",
        "- **CO2 EMISSIONS (g/km)** e.g. 182   --> low --> 0"
      ]
    },
    {
      "cell_type": "markdown",
      "metadata": {
        "id": "nD5Q7szhd3X5",
        "colab_type": "text"
      },
      "source": [
        "---"
      ]
    },
    {
      "cell_type": "markdown",
      "metadata": {
        "id": "CKjqYUnOd4Jm",
        "colab_type": "text"
      },
      "source": [
        "### 2. Reading the data in"
      ]
    },
    {
      "cell_type": "code",
      "metadata": {
        "id": "G4bBMGwzZg0V",
        "colab_type": "code",
        "colab": {
          "base_uri": "https://localhost:8080/",
          "height": 275
        },
        "outputId": "ed3d4e6c-755e-4df8-d38e-7e0481e069a2"
      },
      "source": [
        "df = pd.read_csv('FuelConsumption.csv')\n",
        "df.head()"
      ],
      "execution_count": 4,
      "outputs": [
        {
          "output_type": "execute_result",
          "data": {
            "text/html": [
              "<div>\n",
              "<style scoped>\n",
              "    .dataframe tbody tr th:only-of-type {\n",
              "        vertical-align: middle;\n",
              "    }\n",
              "\n",
              "    .dataframe tbody tr th {\n",
              "        vertical-align: top;\n",
              "    }\n",
              "\n",
              "    .dataframe thead th {\n",
              "        text-align: right;\n",
              "    }\n",
              "</style>\n",
              "<table border=\"1\" class=\"dataframe\">\n",
              "  <thead>\n",
              "    <tr style=\"text-align: right;\">\n",
              "      <th></th>\n",
              "      <th>MODELYEAR</th>\n",
              "      <th>MAKE</th>\n",
              "      <th>MODEL</th>\n",
              "      <th>VEHICLECLASS</th>\n",
              "      <th>ENGINESIZE</th>\n",
              "      <th>CYLINDERS</th>\n",
              "      <th>TRANSMISSION</th>\n",
              "      <th>FUELTYPE</th>\n",
              "      <th>FUELCONSUMPTION_CITY</th>\n",
              "      <th>FUELCONSUMPTION_HWY</th>\n",
              "      <th>FUELCONSUMPTION_COMB</th>\n",
              "      <th>FUELCONSUMPTION_COMB_MPG</th>\n",
              "      <th>CO2EMISSIONS</th>\n",
              "    </tr>\n",
              "  </thead>\n",
              "  <tbody>\n",
              "    <tr>\n",
              "      <th>0</th>\n",
              "      <td>2014</td>\n",
              "      <td>ACURA</td>\n",
              "      <td>ILX</td>\n",
              "      <td>COMPACT</td>\n",
              "      <td>2.0</td>\n",
              "      <td>4</td>\n",
              "      <td>AS5</td>\n",
              "      <td>Z</td>\n",
              "      <td>9.9</td>\n",
              "      <td>6.7</td>\n",
              "      <td>8.5</td>\n",
              "      <td>33</td>\n",
              "      <td>196</td>\n",
              "    </tr>\n",
              "    <tr>\n",
              "      <th>1</th>\n",
              "      <td>2014</td>\n",
              "      <td>ACURA</td>\n",
              "      <td>ILX</td>\n",
              "      <td>COMPACT</td>\n",
              "      <td>2.4</td>\n",
              "      <td>4</td>\n",
              "      <td>M6</td>\n",
              "      <td>Z</td>\n",
              "      <td>11.2</td>\n",
              "      <td>7.7</td>\n",
              "      <td>9.6</td>\n",
              "      <td>29</td>\n",
              "      <td>221</td>\n",
              "    </tr>\n",
              "    <tr>\n",
              "      <th>2</th>\n",
              "      <td>2014</td>\n",
              "      <td>ACURA</td>\n",
              "      <td>ILX HYBRID</td>\n",
              "      <td>COMPACT</td>\n",
              "      <td>1.5</td>\n",
              "      <td>4</td>\n",
              "      <td>AV7</td>\n",
              "      <td>Z</td>\n",
              "      <td>6.0</td>\n",
              "      <td>5.8</td>\n",
              "      <td>5.9</td>\n",
              "      <td>48</td>\n",
              "      <td>136</td>\n",
              "    </tr>\n",
              "    <tr>\n",
              "      <th>3</th>\n",
              "      <td>2014</td>\n",
              "      <td>ACURA</td>\n",
              "      <td>MDX 4WD</td>\n",
              "      <td>SUV - SMALL</td>\n",
              "      <td>3.5</td>\n",
              "      <td>6</td>\n",
              "      <td>AS6</td>\n",
              "      <td>Z</td>\n",
              "      <td>12.7</td>\n",
              "      <td>9.1</td>\n",
              "      <td>11.1</td>\n",
              "      <td>25</td>\n",
              "      <td>255</td>\n",
              "    </tr>\n",
              "    <tr>\n",
              "      <th>4</th>\n",
              "      <td>2014</td>\n",
              "      <td>ACURA</td>\n",
              "      <td>RDX AWD</td>\n",
              "      <td>SUV - SMALL</td>\n",
              "      <td>3.5</td>\n",
              "      <td>6</td>\n",
              "      <td>AS6</td>\n",
              "      <td>Z</td>\n",
              "      <td>12.1</td>\n",
              "      <td>8.7</td>\n",
              "      <td>10.6</td>\n",
              "      <td>27</td>\n",
              "      <td>244</td>\n",
              "    </tr>\n",
              "  </tbody>\n",
              "</table>\n",
              "</div>"
            ],
            "text/plain": [
              "   MODELYEAR   MAKE  ... FUELCONSUMPTION_COMB_MPG CO2EMISSIONS\n",
              "0       2014  ACURA  ...                       33          196\n",
              "1       2014  ACURA  ...                       29          221\n",
              "2       2014  ACURA  ...                       48          136\n",
              "3       2014  ACURA  ...                       25          255\n",
              "4       2014  ACURA  ...                       27          244\n",
              "\n",
              "[5 rows x 13 columns]"
            ]
          },
          "metadata": {
            "tags": []
          },
          "execution_count": 4
        }
      ]
    },
    {
      "cell_type": "markdown",
      "metadata": {
        "id": "O5q3y9i5eBbk",
        "colab_type": "text"
      },
      "source": [
        "---"
      ]
    },
    {
      "cell_type": "markdown",
      "metadata": {
        "id": "WbNMG6qreCNF",
        "colab_type": "text"
      },
      "source": [
        "### 3. Data Exploration"
      ]
    },
    {
      "cell_type": "code",
      "metadata": {
        "id": "_erReq5DeAP9",
        "colab_type": "code",
        "colab": {
          "base_uri": "https://localhost:8080/",
          "height": 317
        },
        "outputId": "46baba11-75dc-46f3-fcc4-77c6de7ab163"
      },
      "source": [
        "# summarize the data\n",
        "df.describe()"
      ],
      "execution_count": 5,
      "outputs": [
        {
          "output_type": "execute_result",
          "data": {
            "text/html": [
              "<div>\n",
              "<style scoped>\n",
              "    .dataframe tbody tr th:only-of-type {\n",
              "        vertical-align: middle;\n",
              "    }\n",
              "\n",
              "    .dataframe tbody tr th {\n",
              "        vertical-align: top;\n",
              "    }\n",
              "\n",
              "    .dataframe thead th {\n",
              "        text-align: right;\n",
              "    }\n",
              "</style>\n",
              "<table border=\"1\" class=\"dataframe\">\n",
              "  <thead>\n",
              "    <tr style=\"text-align: right;\">\n",
              "      <th></th>\n",
              "      <th>MODELYEAR</th>\n",
              "      <th>ENGINESIZE</th>\n",
              "      <th>CYLINDERS</th>\n",
              "      <th>FUELCONSUMPTION_CITY</th>\n",
              "      <th>FUELCONSUMPTION_HWY</th>\n",
              "      <th>FUELCONSUMPTION_COMB</th>\n",
              "      <th>FUELCONSUMPTION_COMB_MPG</th>\n",
              "      <th>CO2EMISSIONS</th>\n",
              "    </tr>\n",
              "  </thead>\n",
              "  <tbody>\n",
              "    <tr>\n",
              "      <th>count</th>\n",
              "      <td>1067.0</td>\n",
              "      <td>1067.000000</td>\n",
              "      <td>1067.000000</td>\n",
              "      <td>1067.000000</td>\n",
              "      <td>1067.000000</td>\n",
              "      <td>1067.000000</td>\n",
              "      <td>1067.000000</td>\n",
              "      <td>1067.000000</td>\n",
              "    </tr>\n",
              "    <tr>\n",
              "      <th>mean</th>\n",
              "      <td>2014.0</td>\n",
              "      <td>3.346298</td>\n",
              "      <td>5.794752</td>\n",
              "      <td>13.296532</td>\n",
              "      <td>9.474602</td>\n",
              "      <td>11.580881</td>\n",
              "      <td>26.441425</td>\n",
              "      <td>256.228679</td>\n",
              "    </tr>\n",
              "    <tr>\n",
              "      <th>std</th>\n",
              "      <td>0.0</td>\n",
              "      <td>1.415895</td>\n",
              "      <td>1.797447</td>\n",
              "      <td>4.101253</td>\n",
              "      <td>2.794510</td>\n",
              "      <td>3.485595</td>\n",
              "      <td>7.468702</td>\n",
              "      <td>63.372304</td>\n",
              "    </tr>\n",
              "    <tr>\n",
              "      <th>min</th>\n",
              "      <td>2014.0</td>\n",
              "      <td>1.000000</td>\n",
              "      <td>3.000000</td>\n",
              "      <td>4.600000</td>\n",
              "      <td>4.900000</td>\n",
              "      <td>4.700000</td>\n",
              "      <td>11.000000</td>\n",
              "      <td>108.000000</td>\n",
              "    </tr>\n",
              "    <tr>\n",
              "      <th>25%</th>\n",
              "      <td>2014.0</td>\n",
              "      <td>2.000000</td>\n",
              "      <td>4.000000</td>\n",
              "      <td>10.250000</td>\n",
              "      <td>7.500000</td>\n",
              "      <td>9.000000</td>\n",
              "      <td>21.000000</td>\n",
              "      <td>207.000000</td>\n",
              "    </tr>\n",
              "    <tr>\n",
              "      <th>50%</th>\n",
              "      <td>2014.0</td>\n",
              "      <td>3.400000</td>\n",
              "      <td>6.000000</td>\n",
              "      <td>12.600000</td>\n",
              "      <td>8.800000</td>\n",
              "      <td>10.900000</td>\n",
              "      <td>26.000000</td>\n",
              "      <td>251.000000</td>\n",
              "    </tr>\n",
              "    <tr>\n",
              "      <th>75%</th>\n",
              "      <td>2014.0</td>\n",
              "      <td>4.300000</td>\n",
              "      <td>8.000000</td>\n",
              "      <td>15.550000</td>\n",
              "      <td>10.850000</td>\n",
              "      <td>13.350000</td>\n",
              "      <td>31.000000</td>\n",
              "      <td>294.000000</td>\n",
              "    </tr>\n",
              "    <tr>\n",
              "      <th>max</th>\n",
              "      <td>2014.0</td>\n",
              "      <td>8.400000</td>\n",
              "      <td>12.000000</td>\n",
              "      <td>30.200000</td>\n",
              "      <td>20.500000</td>\n",
              "      <td>25.800000</td>\n",
              "      <td>60.000000</td>\n",
              "      <td>488.000000</td>\n",
              "    </tr>\n",
              "  </tbody>\n",
              "</table>\n",
              "</div>"
            ],
            "text/plain": [
              "       MODELYEAR   ENGINESIZE  ...  FUELCONSUMPTION_COMB_MPG  CO2EMISSIONS\n",
              "count     1067.0  1067.000000  ...               1067.000000   1067.000000\n",
              "mean      2014.0     3.346298  ...                 26.441425    256.228679\n",
              "std          0.0     1.415895  ...                  7.468702     63.372304\n",
              "min       2014.0     1.000000  ...                 11.000000    108.000000\n",
              "25%       2014.0     2.000000  ...                 21.000000    207.000000\n",
              "50%       2014.0     3.400000  ...                 26.000000    251.000000\n",
              "75%       2014.0     4.300000  ...                 31.000000    294.000000\n",
              "max       2014.0     8.400000  ...                 60.000000    488.000000\n",
              "\n",
              "[8 rows x 8 columns]"
            ]
          },
          "metadata": {
            "tags": []
          },
          "execution_count": 5
        }
      ]
    },
    {
      "cell_type": "code",
      "metadata": {
        "id": "hXvOKFAheHIt",
        "colab_type": "code",
        "colab": {
          "base_uri": "https://localhost:8080/",
          "height": 328
        },
        "outputId": "fa7b8fba-20da-4d92-e5ec-89069fc5a4c1"
      },
      "source": [
        "# select some features to explore more\n",
        "\n",
        "cdf = df[['ENGINESIZE', 'CYLINDERS', 'FUELCONSUMPTION_COMB', 'CO2EMISSIONS']]\n",
        "cdf.head(9)"
      ],
      "execution_count": 6,
      "outputs": [
        {
          "output_type": "execute_result",
          "data": {
            "text/html": [
              "<div>\n",
              "<style scoped>\n",
              "    .dataframe tbody tr th:only-of-type {\n",
              "        vertical-align: middle;\n",
              "    }\n",
              "\n",
              "    .dataframe tbody tr th {\n",
              "        vertical-align: top;\n",
              "    }\n",
              "\n",
              "    .dataframe thead th {\n",
              "        text-align: right;\n",
              "    }\n",
              "</style>\n",
              "<table border=\"1\" class=\"dataframe\">\n",
              "  <thead>\n",
              "    <tr style=\"text-align: right;\">\n",
              "      <th></th>\n",
              "      <th>ENGINESIZE</th>\n",
              "      <th>CYLINDERS</th>\n",
              "      <th>FUELCONSUMPTION_COMB</th>\n",
              "      <th>CO2EMISSIONS</th>\n",
              "    </tr>\n",
              "  </thead>\n",
              "  <tbody>\n",
              "    <tr>\n",
              "      <th>0</th>\n",
              "      <td>2.0</td>\n",
              "      <td>4</td>\n",
              "      <td>8.5</td>\n",
              "      <td>196</td>\n",
              "    </tr>\n",
              "    <tr>\n",
              "      <th>1</th>\n",
              "      <td>2.4</td>\n",
              "      <td>4</td>\n",
              "      <td>9.6</td>\n",
              "      <td>221</td>\n",
              "    </tr>\n",
              "    <tr>\n",
              "      <th>2</th>\n",
              "      <td>1.5</td>\n",
              "      <td>4</td>\n",
              "      <td>5.9</td>\n",
              "      <td>136</td>\n",
              "    </tr>\n",
              "    <tr>\n",
              "      <th>3</th>\n",
              "      <td>3.5</td>\n",
              "      <td>6</td>\n",
              "      <td>11.1</td>\n",
              "      <td>255</td>\n",
              "    </tr>\n",
              "    <tr>\n",
              "      <th>4</th>\n",
              "      <td>3.5</td>\n",
              "      <td>6</td>\n",
              "      <td>10.6</td>\n",
              "      <td>244</td>\n",
              "    </tr>\n",
              "    <tr>\n",
              "      <th>5</th>\n",
              "      <td>3.5</td>\n",
              "      <td>6</td>\n",
              "      <td>10.0</td>\n",
              "      <td>230</td>\n",
              "    </tr>\n",
              "    <tr>\n",
              "      <th>6</th>\n",
              "      <td>3.5</td>\n",
              "      <td>6</td>\n",
              "      <td>10.1</td>\n",
              "      <td>232</td>\n",
              "    </tr>\n",
              "    <tr>\n",
              "      <th>7</th>\n",
              "      <td>3.7</td>\n",
              "      <td>6</td>\n",
              "      <td>11.1</td>\n",
              "      <td>255</td>\n",
              "    </tr>\n",
              "    <tr>\n",
              "      <th>8</th>\n",
              "      <td>3.7</td>\n",
              "      <td>6</td>\n",
              "      <td>11.6</td>\n",
              "      <td>267</td>\n",
              "    </tr>\n",
              "  </tbody>\n",
              "</table>\n",
              "</div>"
            ],
            "text/plain": [
              "   ENGINESIZE  CYLINDERS  FUELCONSUMPTION_COMB  CO2EMISSIONS\n",
              "0         2.0          4                   8.5           196\n",
              "1         2.4          4                   9.6           221\n",
              "2         1.5          4                   5.9           136\n",
              "3         3.5          6                  11.1           255\n",
              "4         3.5          6                  10.6           244\n",
              "5         3.5          6                  10.0           230\n",
              "6         3.5          6                  10.1           232\n",
              "7         3.7          6                  11.1           255\n",
              "8         3.7          6                  11.6           267"
            ]
          },
          "metadata": {
            "tags": []
          },
          "execution_count": 6
        }
      ]
    },
    {
      "cell_type": "code",
      "metadata": {
        "id": "dYHQoGE4eUWc",
        "colab_type": "code",
        "colab": {
          "base_uri": "https://localhost:8080/",
          "height": 410
        },
        "outputId": "077a7389-81cb-476b-de95-43a37f88f19b"
      },
      "source": [
        "# we can plot each of these features:\n",
        "viz = df[['CYLINDERS', 'ENGINESIZE', 'CO2EMISSIONS', 'FUELCONSUMPTION_COMB']]\n",
        "viz.hist(figsize=(20, 8))\n",
        "plt.show()"
      ],
      "execution_count": 8,
      "outputs": [
        {
          "output_type": "display_data",
          "data": {
            "image/png": "[encoded data removed]",
            "text/plain": [
              "<Figure size 1440x576 with 4 Axes>"
            ]
          },
          "metadata": {
            "tags": [],
            "needs_background": "light"
          }
        }
      ]
    },
    {
      "cell_type": "code",
      "metadata": {
        "id": "mPCuagttej-t",
        "colab_type": "code",
        "colab": {
          "base_uri": "https://localhost:8080/",
          "height": 281
        },
        "outputId": "b09f6401-a21c-4e47-b239-b2dd3521e6b6"
      },
      "source": [
        "# plot each of these features vs the Emission, to see how linear is their relation\n",
        "plt.scatter(cdf.FUELCONSUMPTION_COMB, cdf.CO2EMISSIONS, color='blue')\n",
        "plt.xlabel('FUELCONSUMPTION_COMB')\n",
        "plt.ylabel('Emission')\n",
        "plt.show()"
      ],
      "execution_count": 9,
      "outputs": [
        {
          "output_type": "display_data",
          "data": {
            "image/png": "[encoded data removed]",
            "text/plain": [
              "<Figure size 432x288 with 1 Axes>"
            ]
          },
          "metadata": {
            "tags": [],
            "needs_background": "light"
          }
        }
      ]
    },
    {
      "cell_type": "code",
      "metadata": {
        "id": "69Ux72LKfNM_",
        "colab_type": "code",
        "colab": {
          "base_uri": "https://localhost:8080/",
          "height": 280
        },
        "outputId": "fcc84154-c249-4bca-98c5-6645ca5a6598"
      },
      "source": [
        "plt.scatter(cdf.ENGINESIZE, cdf.CO2EMISSIONS, color='blue')\n",
        "plt.xlabel('ENGINESIZE')\n",
        "plt.ylabel('Emission')\n",
        "plt.show()"
      ],
      "execution_count": 10,
      "outputs": [
        {
          "output_type": "display_data",
          "data": {
            "image/png": "[encoded data removed]",
            "text/plain": [
              "<Figure size 432x288 with 1 Axes>"
            ]
          },
          "metadata": {
            "tags": [],
            "needs_background": "light"
          }
        }
      ]
    },
    {
      "cell_type": "code",
      "metadata": {
        "id": "wV6D7HZOf1h_",
        "colab_type": "code",
        "colab": {
          "base_uri": "https://localhost:8080/",
          "height": 280
        },
        "outputId": "ba457014-7fec-4e39-c010-128464fa9bdc"
      },
      "source": [
        "plt.scatter(cdf.CYLINDERS, cdf.CO2EMISSIONS, color='blue')\n",
        "plt.xlabel('CYLINDERS')\n",
        "plt.ylabel('Emission')\n",
        "plt.show()"
      ],
      "execution_count": 11,
      "outputs": [
        {
          "output_type": "display_data",
          "data": {
            "image/png": "[encoded data removed]",
            "text/plain": [
              "<Figure size 432x288 with 1 Axes>"
            ]
          },
          "metadata": {
            "tags": [],
            "needs_background": "light"
          }
        }
      ]
    },
    {
      "cell_type": "markdown",
      "metadata": {
        "id": "yrvcrJ1xf_kB",
        "colab_type": "text"
      },
      "source": [
        "#### Creating train and test dataset"
      ]
    },
    {
      "cell_type": "code",
      "metadata": {
        "id": "xKfc3Zojf8ct",
        "colab_type": "code",
        "colab": {}
      },
      "source": [
        "# create a mask to select random rows using np.random.rand()\n",
        "# 80% training set, 20% testing set\n",
        "msk = np.random.rand(len(df)) < 0.8\n",
        "train = cdf[msk]\n",
        "test = cdf[~msk]"
      ],
      "execution_count": 13,
      "outputs": []
    },
    {
      "cell_type": "markdown",
      "metadata": {
        "id": "K2iPoMk3hXuv",
        "colab_type": "text"
      },
      "source": [
        "---"
      ]
    },
    {
      "cell_type": "markdown",
      "metadata": {
        "id": "E2Y2-BNFhYi0",
        "colab_type": "text"
      },
      "source": [
        "### 4. Simple Regression Model"
      ]
    },
    {
      "cell_type": "markdown",
      "metadata": {
        "id": "10q4iUOLhuSV",
        "colab_type": "text"
      },
      "source": [
        "#### Train data distribution"
      ]
    },
    {
      "cell_type": "code",
      "metadata": {
        "id": "8SMgh7p_gJJ-",
        "colab_type": "code",
        "colab": {
          "base_uri": "https://localhost:8080/",
          "height": 281
        },
        "outputId": "b22dd73a-a8f7-454d-908d-6151e93fc8e8"
      },
      "source": [
        "plt.scatter(train.ENGINESIZE, train.CO2EMISSIONS, color='blue')\n",
        "plt.xlabel('ENGINESIZE')\n",
        "plt.ylabel('Emission')\n",
        "plt.show()"
      ],
      "execution_count": 14,
      "outputs": [
        {
          "output_type": "display_data",
          "data": {
            "image/png": "[encoded data removed]",
            "text/plain": [
              "<Figure size 432x288 with 1 Axes>"
            ]
          },
          "metadata": {
            "tags": [],
            "needs_background": "light"
          }
        }
      ]
    },
    {
      "cell_type": "markdown",
      "metadata": {
        "id": "FG97_xQZhvjF",
        "colab_type": "text"
      },
      "source": [
        "#### Modeling\n",
        "Using `sklearn` package to model data"
      ]
    },
    {
      "cell_type": "code",
      "metadata": {
        "id": "CZkNq8muhni-",
        "colab_type": "code",
        "colab": {
          "base_uri": "https://localhost:8080/",
          "height": 53
        },
        "outputId": "07cefd4f-ef4f-4f47-d889-dc70dfdd6b17"
      },
      "source": [
        "from sklearn import linear_model\n",
        "regr = linear_model.LinearRegression()\n",
        "train_x = np.asanyarray(train[['ENGINESIZE']])\n",
        "train_y = np.asanyarray(train[['CO2EMISSIONS']])\n",
        "regr.fit(train_x, train_y)\n",
        "\n",
        "# the coefficients\n",
        "print('Coefficients: ', regr.coef_)\n",
        "print('Intercepts: ', regr.intercept_)"
      ],
      "execution_count": 15,
      "outputs": [
        {
          "output_type": "stream",
          "text": [
            "Coefficients:  [[38.66780896]]\n",
            "Intercepts:  [126.86287879]\n"
          ],
          "name": "stdout"
        }
      ]
    },
    {
      "cell_type": "markdown",
      "metadata": {
        "id": "a44fjBf8itSd",
        "colab_type": "text"
      },
      "source": [
        "#### Plot outputs"
      ]
    },
    {
      "cell_type": "code",
      "metadata": {
        "id": "9hQLSz3GiPnY",
        "colab_type": "code",
        "colab": {
          "base_uri": "https://localhost:8080/",
          "height": 297
        },
        "outputId": "2ed4d31c-f118-4eb4-a82c-6c0df1a8b913"
      },
      "source": [
        "plt.scatter(train.ENGINESIZE, train.CO2EMISSIONS, color='blue')\n",
        "plt.plot(train_x, regr.coef_[0][0]*train_x + regr.intercept_[0], '-r')\n",
        "plt.xlabel('Engine Size')\n",
        "plt.ylabel('Emission')"
      ],
      "execution_count": 17,
      "outputs": [
        {
          "output_type": "execute_result",
          "data": {
            "text/plain": [
              "Text(0, 0.5, 'Emission')"
            ]
          },
          "metadata": {
            "tags": []
          },
          "execution_count": 17
        },
        {
          "output_type": "display_data",
          "data": {
            "image/png": "[encoded data removed]",
            "text/plain": [
              "<Figure size 432x288 with 1 Axes>"
            ]
          },
          "metadata": {
            "tags": [],
            "needs_background": "light"
          }
        }
      ]
    },
    {
      "cell_type": "markdown",
      "metadata": {
        "id": "rzzMicwojEHF",
        "colab_type": "text"
      },
      "source": [
        "#### Evaluation\n",
        "\n",
        "-  Mean absolute error: It is the mean of the absolute value of the errors. This is the easiest of the metrics to understand since it’s just average error.\n",
        "\n",
        "- Mean Squared Error (MSE): Mean Squared Error (MSE) is the mean of the squared error. It’s more popular than Mean absolute error because the focus is geared more towards large errors. This is due to the squared term exponentially increasing larger errors in comparison to smaller ones.\n",
        "\n",
        "- Root Mean Squared Error (RMSE): This is the square root of the Mean Square Error.\n",
        "\n",
        "- R-squared is not error, but is a popular metric for accuracy of your model. It represents how close the data are to the fitted regression line. The higher the R-squared, the better the model fits your data. Best possible score is 1.0 and it can be negative (because the model can be arbitrarily worse).\n"
      ]
    },
    {
      "cell_type": "code",
      "metadata": {
        "id": "ThKlobp0jAOP",
        "colab_type": "code",
        "colab": {
          "base_uri": "https://localhost:8080/",
          "height": 71
        },
        "outputId": "cff88e7f-ddbb-4359-84c2-952c4da7604e"
      },
      "source": [
        "from sklearn.metrics import r2_score\n",
        "\n",
        "test_x = np.asanyarray(test[['ENGINESIZE']])\n",
        "test_y = np.asanyarray(test[['CO2EMISSIONS']])\n",
        "test_y_hat = regr.predict(test_x)\n",
        "\n",
        "print('Mean absolute error: %.2f' % np.mean(np.absolute(test_y_hat - test_y)))\n",
        "print('Residual sum of squares (MSE): %.2f' % np.mean((test_y_hat - test_y) ** 2))\n",
        "print('R2-score: %.2f' % r2_score(test_y_hat, test_y))"
      ],
      "execution_count": 18,
      "outputs": [
        {
          "output_type": "stream",
          "text": [
            "Mean absolute error: 21.73\n",
            "Residual sum of squares (MSE): 865.61\n",
            "R2-score: 0.72\n"
          ],
          "name": "stdout"
        }
      ]
    }
  ]
}